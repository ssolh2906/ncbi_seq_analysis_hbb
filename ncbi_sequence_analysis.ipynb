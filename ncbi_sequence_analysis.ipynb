{
 "cells": [
  {
   "cell_type": "code",
   "execution_count": 22,
   "id": "ee9ff88b-3c78-455f-9940-53317021fe1e",
   "metadata": {},
   "outputs": [],
   "source": [
    "import os\n",
    "from Bio import Entrez, SeqIO\n",
    "from Bio.SeqUtils import GC\n",
    "from collections import Counter\n",
    "import pandas as pd\n",
    "import matplotlib.pyplot as plt"
   ]
  },
  {
   "cell_type": "markdown",
   "id": "81043590-bee9-4860-bf4b-295e04840197",
   "metadata": {},
   "source": [
    "## Set up Email for NCBI, Accessoion No."
   ]
  },
  {
   "cell_type": "code",
   "execution_count": 7,
   "id": "9e9c34e1-49e4-40a6-839e-1772676744b4",
   "metadata": {},
   "outputs": [],
   "source": [
    "# Set email for NCBI access\n",
    "# Get email from environment variable\n",
    "Entrez.email = os.getenv(\"NCBI_EMAIL\", \"@.\")\n",
    "\n",
    "# Accession number of target gene, HBB\n",
    "accession = \"NM_000518.5\""
   ]
  },
  {
   "cell_type": "markdown",
   "id": "2210913f-4652-4b4d-8f7a-acb13586d22d",
   "metadata": {},
   "source": [
    "## Fetch sequence information"
   ]
  },
  {
   "cell_type": "code",
   "execution_count": 8,
   "id": "12b9e743-a11f-4548-9c5c-7b7f59706d07",
   "metadata": {},
   "outputs": [],
   "source": [
    "# Fetch FASTA Seq from NCBI\n",
    "handle = Entrez.efetch(db = \"nucleotide\", id = accession, rettype=\"fasta\", retmode=\"text\")\n",
    "seq_record = SeqIO.read(handle, \"fasta\")\n",
    "handle.close()"
   ]
  },
  {
   "cell_type": "code",
   "execution_count": 9,
   "id": "7b3b076a-cce4-437e-a55c-58a15b5b8772",
   "metadata": {},
   "outputs": [
    {
     "name": "stdout",
     "output_type": "stream",
     "text": [
      "Gene ID: \t\tNM_000518.5\n",
      "Sequence length: \t628 bp\n",
      "First 100 bases: \tACATTTGCTTCTGACACAACTGTGTTCACTAGCAACCTCAAACAGACACCATGGTGCATCTGACTCCTGAGGAGAAGTCTGCCGTTACTGCCCTGTGGGG...\n"
     ]
    }
   ],
   "source": [
    "# Print sequence information\n",
    "print(f\"Gene ID: \\t\\t{seq_record.id}\")\n",
    "print(f\"Sequence length: \\t{len(seq_record.seq)} bp\")\n",
    "print(f\"First 100 bases: \\t{seq_record.seq[:100]}...\")"
   ]
  },
  {
   "cell_type": "markdown",
   "id": "9e33cdb2-f10b-48e4-9bfa-a22eb5aa2425",
   "metadata": {},
   "source": [
    "## Entrez response"
   ]
  },
  {
   "cell_type": "code",
   "execution_count": 14,
   "id": "8712438d-191a-43ea-98eb-a9048faba7ea",
   "metadata": {},
   "outputs": [
    {
     "name": "stdout",
     "output_type": "stream",
     "text": [
      "response:  ['__add__', '__bool__', '__class__', '__contains__', '__delattr__', '__dict__', '__dir__', '__doc__', '__eq__', '__format__', '__ge__', '__getattribute__', '__getitem__', '__gt__', '__hash__', '__init__', '__init_subclass__', '__iter__', '__le__', '__le___', '__len__', '__lt__', '__module__', '__ne__', '__new__', '__radd__', '__reduce__', '__reduce_ex__', '__repr__', '__setattr__', '__sizeof__', '__str__', '__subclasshook__', '__weakref__', '_per_letter_annotations', '_seq', '_set_per_letter_annotations', '_set_seq', 'annotations', 'dbxrefs', 'description', 'features', 'format', 'id', 'letter_annotations', 'lower', 'name', 'reverse_complement', 'seq', 'translate', 'upper']\n",
      "ID: NM_000518.5\n",
      "Name: NM_000518.5\n",
      "Description: NM_000518.5 Homo sapiens hemoglobin subunit beta (HBB), mRNA\n",
      "Sequence Length: 628\n",
      "Annotations: {}\n",
      "DB Cross-references: []\n",
      "Features: []\n"
     ]
    }
   ],
   "source": [
    "print(\"response dir: \", dir(seq_record))\n",
    "print(\"ID:\", seq_record.id)                \n",
    "print(\"Name:\", seq_record.name)            \n",
    "print(\"Description:\", seq_record.description) \n",
    "print(\"Sequence Length:\", len(seq_record.seq)) \n",
    "print(\"Annotations:\", seq_record.annotations)  \n",
    "print(\"DB Cross-references:\", seq_record.dbxrefs)  \n",
    "print(\"Features:\", seq_record.features)  "
   ]
  },
  {
   "cell_type": "markdown",
   "id": "07ebb880-f591-4e42-ab33-56160d00185d",
   "metadata": {},
   "source": [
    "## Save sequence as a FASTA file"
   ]
  },
  {
   "cell_type": "code",
   "execution_count": 10,
   "id": "15b9129d-7bd1-434c-8afc-746d7abadca3",
   "metadata": {},
   "outputs": [
    {
     "name": "stdout",
     "output_type": "stream",
     "text": [
      "FASTA file saved: hbb_gene.fasta\n"
     ]
    }
   ],
   "source": [
    "file_name = \"hbb_gene.fasta\"\n",
    "with open(file_name, \"w\") as fasta_file:\n",
    "    SeqIO.write(seq_record, fasta_file, \"fasta\")\n",
    "\n",
    "print(f\"FASTA file saved: {file_name}\")"
   ]
  },
  {
   "cell_type": "markdown",
   "id": "84966401-2798-4e53-a8df-730e1db87d4c",
   "metadata": {},
   "source": [
    "## GC Content"
   ]
  },
  {
   "cell_type": "code",
   "execution_count": 12,
   "id": "086873a8-0c99-4fd8-81ed-74eb37b43760",
   "metadata": {},
   "outputs": [
    {
     "name": "stdout",
     "output_type": "stream",
     "text": [
      "GC Content:  51.27%\n"
     ]
    }
   ],
   "source": [
    "gc_content = GC(seq_record.seq)\n",
    "print(f\"GC Content: {gc_content: .2f}%\")"
   ]
  },
  {
   "cell_type": "markdown",
   "id": "413e5230-192b-4509-9d95-2e312b435636",
   "metadata": {},
   "source": [
    "## Base frequency"
   ]
  },
  {
   "cell_type": "code",
   "execution_count": 19,
   "id": "e29f35b5-834a-4a35-ae5c-289513e7568a",
   "metadata": {},
   "outputs": [
    {
     "name": "stdout",
     "output_type": "stream",
     "text": [
      "Nucleotide frequency\n",
      "A: 139\n",
      "C: 157\n",
      "T: 167\n",
      "G: 165\n"
     ]
    }
   ],
   "source": [
    "base_counts = Counter(seq_record.seq)\n",
    "\n",
    "print(\"Nucleotide frequency\")\n",
    "for base, count in base_counts.items():\n",
    "    print(f\"{base}: {count}\")"
   ]
  },
  {
   "cell_type": "markdown",
   "id": "554494a6-97f9-46a0-9095-d2ea68e9d92f",
   "metadata": {},
   "source": [
    "## Save frequency as CSV file"
   ]
  },
  {
   "cell_type": "code",
   "execution_count": 21,
   "id": "1d0d0221-4b58-460c-aa7c-d34b9ac3730b",
   "metadata": {},
   "outputs": [
    {
     "name": "stdout",
     "output_type": "stream",
     "text": [
      "CSV file saved: base_counts.csv\n"
     ]
    }
   ],
   "source": [
    "data_frame = pd.DataFrame(base_counts.items(), columns=[\"Base\",\"Count\"])\n",
    "file_name = \"base_counts.csv\"\n",
    "data_frame.to_csv(file_name, index=False) # Possible formats: CSV, TSV, XLSX, JSON, Parquet, HDFS and etc...\n",
    "print(f\"CSV file saved: {file_name}\")"
   ]
  },
  {
   "cell_type": "markdown",
   "id": "9e39a120-d9c9-4928-96da-45b136ad14f1",
   "metadata": {},
   "source": [
    "## Visualize Base Frequencies"
   ]
  },
  {
   "cell_type": "code",
   "execution_count": 33,
   "id": "0edade84-2b81-442f-9a7f-9bd53a730bd0",
   "metadata": {},
   "outputs": [
    {
     "name": "stdout",
     "output_type": "stream",
     "text": [
      "Graph saved: nucleotide_frequency.png\n"
     ]
    },
    {
     "data": {
      "image/png": "[encoded data removed]",
      "text/plain": [
       "<Figure size 640x480 with 1 Axes>"
      ]
     },
     "metadata": {},
     "output_type": "display_data"
    }
   ],
   "source": [
    "labels = list(base_counts.keys())\n",
    "values = list(base_counts.values())\n",
    "\n",
    "plt.bar(labels, values, color = [\"red\", \"blue\", \"green\", \"orange\"], width = 0.6)\n",
    "\n",
    "for i,v in enumerate(values):\n",
    "    plt.text(\n",
    "        x= i,\n",
    "        y= v+2,\n",
    "        s= f\"{labels[i]}: {v}\",\n",
    "        ha='center',\n",
    "        fontsize=12\n",
    "    )\n",
    "\n",
    "plt.xlabel(\"Nucleotide\")\n",
    "plt.ylabel(\"Count\")\n",
    "plt.title(f\"Nucleotide Frequency in {seq_record.id}\", fontsize=16)\n",
    "plt.ylim(0,200)\n",
    "\n",
    "#Save graph as an image file\n",
    "image_file_name = \"nucleotide_frequency.png\"\n",
    "plt.savefig(image_file_name)\n",
    "print(f\"Graph saved: {image_file_name}\")\n",
    "\n",
    "plt.show()"
   ]
  },
  {
   "cell_type": "code",
   "execution_count": null,
   "id": "299fe4b0-5cb6-4250-89ad-c456afca7c77",
   "metadata": {},
   "outputs": [],
   "source": []
  }
 ],
 "metadata": {
  "kernelspec": {
   "display_name": "Python 3 (ipykernel)",
   "language": "python",
   "name": "python3"
  },
  "language_info": {
   "codemirror_mode": {
    "name": "ipython",
    "version": 3
   },
   "file_extension": ".py",
   "mimetype": "text/x-python",
   "name": "python",
   "nbconvert_exporter": "python",
   "pygments_lexer": "ipython3",
   "version": "3.10.16"
  }
 },
 "nbformat": 4,
 "nbformat_minor": 5
}
