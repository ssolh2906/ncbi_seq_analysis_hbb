{
 "cells": [
  {
   "cell_type": "code",
   "execution_count": 1,
   "id": "ee9ff88b-3c78-455f-9940-53317021fe1e",
   "metadata": {},
   "outputs": [],
   "source": [
    "import os\n",
    "from Bio import Entrez, SeqIO"
   ]
  },
  {
   "cell_type": "code",
   "execution_count": null,
   "id": "0b679a7a-955a-4011-9164-d5223f47a28b",
   "metadata": {},
   "outputs": [],
   "source": []
  },
  {
   "cell_type": "code",
   "execution_count": 5,
   "id": "9e9c34e1-49e4-40a6-839e-1772676744b4",
   "metadata": {},
   "outputs": [],
   "source": [
    "# Set email for NCBI access\n",
    "# Get email from environment variable\n",
    "Entrez.email = os.getenv(\"NCBI_EMAIL\", \"@.\")\n",
    "\n",
    "# Accession number of target gene, HBB\n",
    "accession = \"NM_000518.5\"\n"
   ]
  },
  {
   "cell_type": "code",
   "execution_count": 10,
   "id": "12b9e743-a11f-4548-9c5c-7b7f59706d07",
   "metadata": {},
   "outputs": [],
   "source": [
    "# Fet FASTA Seq from NCBI\n",
    "handle = Entrez.efetch(db = \"nucleotide\", id = accession, rettype=\"fasta\", retmode=\"text\")\n",
    "seq_record = SeqIO.read(handle, \"fasta\")\n",
    "handle.close()\n"
   ]
  },
  {
   "cell_type": "code",
   "execution_count": 12,
   "id": "7b3b076a-cce4-437e-a55c-58a15b5b8772",
   "metadata": {},
   "outputs": [
    {
     "name": "stdout",
     "output_type": "stream",
     "text": [
      "Gene ID: \t\tNM_000518.5\n",
      "Sequence length: \t628 bp\n",
      "First 100 bases: \tACATTTGCTTCTGACACAACTGTGTTCACTAGCAACCTCAAACAGACACCATGGTGCATCTGACTCCTGAGGAGAAGTCTGCCGTTACTGCCCTGTGGGG...\n"
     ]
    }
   ],
   "source": [
    "# Print sequence information\n",
    "print(f\"Gene ID: \\t\\t{seq_record.id}\")\n",
    "print(f\"Sequence length: \\t{len(seq_record.seq)} bp\")\n",
    "print(f\"First 100 bases: \\t{seq_record.seq[:100]}...\")\n"
   ]
  },
  {
   "cell_type": "code",
   "execution_count": 15,
   "id": "15b9129d-7bd1-434c-8afc-746d7abadca3",
   "metadata": {},
   "outputs": [
    {
     "name": "stdout",
     "output_type": "stream",
     "text": [
      "FASTA file saved: hbb_gene.fasta\n"
     ]
    }
   ],
   "source": [
    "# Save sequence as a FASTA file\n",
    "file_name = \"hbb_gene.fasta\"\n",
    "with open(file_name, \"w\") as fasta_file:\n",
    "    SeqIO.write(seq_record, fasta_file, \"fasta\")\n",
    "\n",
    "print(f\"FASTA file saved: {file_name}\")"
   ]
  },
  {
   "cell_type": "code",
   "execution_count": null,
   "id": "0385063f-9945-47a2-bf70-832126602b10",
   "metadata": {},
   "outputs": [],
   "source": []
  }
 ],
 "metadata": {
  "kernelspec": {
   "display_name": "Python 3 (ipykernel)",
   "language": "python",
   "name": "python3"
  },
  "language_info": {
   "codemirror_mode": {
    "name": "ipython",
    "version": 3
   },
   "file_extension": ".py",
   "mimetype": "text/x-python",
   "name": "python",
   "nbconvert_exporter": "python",
   "pygments_lexer": "ipython3",
   "version": "3.10.16"
  }
 },
 "nbformat": 4,
 "nbformat_minor": 5
}
